{
 "cells": [
  {
   "cell_type": "code",
   "execution_count": 1,
   "metadata": {},
   "outputs": [],
   "source": [
    "import pandas as pd\n",
    "import os\n",
    "import numpy as np"
   ]
  },
  {
   "cell_type": "code",
   "execution_count": 2,
   "metadata": {},
   "outputs": [],
   "source": [
    "def getPts(pose_keypoint):\n",
    "    xs = []\n",
    "    ys = []\n",
    "    for i in range(0,len(pose_keypoint)-2,3):\n",
    "        xs.append(pose_keypoint[i])\n",
    "        ys.append(pose_keypoint[i+1])\n",
    "    \n",
    "    return np.array(list(zip(xs,ys)))\n",
    "\n",
    "\n",
    "def centroid(pts):\n",
    "    return np.array([sum(pts[:,0])/(len(pts)),sum(pts[:,1])/(len(pts))])\n",
    "            \n",
    "def stdDev(centroid,pts):\n",
    "    return pts - centroid\n",
    "\n",
    "def d2(pt1,pt2):\n",
    "    return np.sqrt((pt1[0] - pt2[0])**2 + (pt1[1] - pt2[1])**2)"
   ]
  },
  {
   "cell_type": "code",
   "execution_count": 3,
   "metadata": {},
   "outputs": [],
   "source": [
    "def getRythmObject(pose_keypoint):\n",
    "    pts = getPts(pose_keypoint)\n",
    "    \n",
    "    #get centroid withought [0,0]\n",
    "    filtered_zeroes = np.array([x for x in pts if x[0] != 0 or x[1] != 0])\n",
    "    mask = centroid(filtered_zeroes)\n",
    "    \n",
    "    for i in range(len(pts)):\n",
    "        if np.array_equal(pts[i],np.array([0,0])):\n",
    "            pts[i] = mask\n",
    "            \n",
    "    return (pts - mask)/np.mean([d2(x,mask) for x in pts])\n",
    "\n",
    "\n",
    "def getSceneRythmObjects(scene):\n",
    "    people = []\n",
    "    for ppl in scene:\n",
    "        people.append([x for x in getRythmObject(ppl)])\n",
    "    return np.array(people)"
   ]
  },
  {
   "cell_type": "code",
   "execution_count": 4,
   "metadata": {},
   "outputs": [],
   "source": [
    "def sceneHasZeroes(scene):\n",
    "    for person in scene:\n",
    "        for i in range(2,len(person),3):\n",
    "            if person[i] == 0:\n",
    "                return True\n",
    "    return False\n",
    "\n",
    "def personHasZeroes(person_keypoint):\n",
    "    for i in range(2,len(person_keypoint),3):\n",
    "        if person_keypoint[i] == 0:\n",
    "            return True\n",
    "    \n",
    "    return False"
   ]
  },
  {
   "cell_type": "code",
   "execution_count": 5,
   "metadata": {},
   "outputs": [],
   "source": [
    "def loadScene(frame,root,f_to_f_name):\n",
    "    file_name = f_to_f_name[frame]\n",
    "    path = os.path.join(root, file_name)\n",
    "\n",
    "    df = pd.read_json(path)\n",
    "    people = df['people'].values\n",
    "    scene = [person['pose_keypoints_2d'] for person in people]\n",
    "    return scene"
   ]
  },
  {
   "cell_type": "code",
   "execution_count": 6,
   "metadata": {},
   "outputs": [],
   "source": [
    "\n",
    "def loadPoses(path='testposes18/',cleaning_method='skip_missing'):\n",
    "    scenes = []\n",
    "    frame_to_f_name = {}\n",
    "    \n",
    "    for root, dirs, files in os.walk(path, topdown=False):\n",
    "        for f_name in files:\n",
    "\n",
    "            frame_number = int(f_name.split('_')[1])\n",
    "            frame_to_f_name[frame_number] = f_name\n",
    "    \n",
    "            \n",
    "    \n",
    "    video_id = frame_to_f_name[0].split('_')[0]\n",
    "    \n",
    "    min_frame = min(frame_to_f_name.keys())\n",
    "    max_frame = max(frame_to_f_name.keys())\n",
    "    min_slice_len = 30\n",
    "    #max_frame=700\n",
    "\n",
    "    slice_n = 0\n",
    "    \n",
    "    df = pd.DataFrame({\"StartFrame\":[],\"EndFrame\":[],\"Poses\":[]})\n",
    "    \n",
    "    frame = min_frame\n",
    "    while frame <= max_frame:\n",
    "        \n",
    "        scene = loadScene(frame,root,frame_to_f_name)\n",
    "        slice_number = 0\n",
    "        if not sceneHasZeroes(scene):\n",
    "            slice_s = []\n",
    "            frame_s = []\n",
    "            while (not sceneHasZeroes(scene)) and (frame <= max_frame):\n",
    "                pts = getSceneRythmObjects(scene)\n",
    "                #print(np.shape(pts))\n",
    "                #print(pts)\n",
    "                slice_s.append(pts)\n",
    "                frame_s.append(frame)\n",
    "                frame += 1\n",
    "                if (frame <= max_frame):\n",
    "                     scene = loadScene(frame,root,frame_to_f_name)\n",
    "                else:\n",
    "                    break        \n",
    "            \n",
    "            slice_s = np.array(slice_s)\n",
    "            if len(frame_s) > min_slice_len:\n",
    "                person_n = 0\n",
    "                for i in range(np.shape(slice_s)[1]):\n",
    "                    df = df.append({\"VideoId\":video_id,\n",
    "                                    \"SliceNumber\":slice_n,\n",
    "                                    \"PersonIndex\":person_n,\n",
    "                                    \"StartFrame\":min(frame_s),\n",
    "                                    \"EndFrame\":max(frame_s),\n",
    "                                    \"Poses\":slice_s[:,i,:,:]},ignore_index=True)\n",
    "                    person_n +=1\n",
    "                slice_n +=1\n",
    "                \n",
    "        \n",
    "        else:\n",
    "            frame += 1             \n",
    "    return df"
   ]
  },
  {
   "cell_type": "code",
   "execution_count": 15,
   "metadata": {},
   "outputs": [
    {
     "name": "stdout",
     "output_type": "stream",
     "text": [
      "['pose_keypoints/1d85329b-d960-4850-9a15-dff33884d3ae', 'pose_keypoints/8d2b49b9-67ba-4b7b-bb6a-7702dd099c69']\n"
     ]
    }
   ],
   "source": [
    "subdirs = [x[0] for x in os.walk('pose_keypoints/')]\n",
    "subdirs = [s for s in subdirs if (s.split('/')[-1] != '')]\n",
    "subdirs = [s for s in subdirs if (s.split('/')[-1] != 'tmp')]\n",
    "subdirs = [s for s in subdirs if (s.split('/')[-1][0] != '.')]\n",
    "print(subdirs)\n",
    "df = pd.DataFrame()\n",
    "for s in subdirs:\n",
    "    df = df.append(loadPoses(path=s))"
   ]
  },
  {
   "cell_type": "code",
   "execution_count": 30,
   "metadata": {},
   "outputs": [],
   "source": [
    "df = df.reset_index()\n",
    "df = df[['VideoId','StartFrame',\n",
    "    'EndFrame','SliceNumber',\n",
    "    'PersonIndex','Poses']]\n"
   ]
  },
  {
   "cell_type": "code",
   "execution_count": 31,
   "metadata": {},
   "outputs": [
    {
     "data": {
      "text/plain": [
       "RangeIndex(start=0, stop=82, step=1)"
      ]
     },
     "execution_count": 31,
     "metadata": {},
     "output_type": "execute_result"
    }
   ],
   "source": [
    "df.index"
   ]
  },
  {
   "cell_type": "code",
   "execution_count": 32,
   "metadata": {},
   "outputs": [],
   "source": [
    "df.to_json(\"rythm_objects.json\")"
   ]
  },
  {
   "cell_type": "code",
   "execution_count": 20,
   "metadata": {},
   "outputs": [
    {
     "data": {
      "text/plain": [
       "array(['1d85329b-d960-4850-9a15-dff33884d3ae',\n",
       "       '8d2b49b9-67ba-4b7b-bb6a-7702dd099c69'], dtype=object)"
      ]
     },
     "execution_count": 20,
     "metadata": {},
     "output_type": "execute_result"
    }
   ],
   "source": [
    "df['VideoId'].unique()"
   ]
  },
  {
   "cell_type": "code",
   "execution_count": 22,
   "metadata": {},
   "outputs": [
    {
     "data": {
      "text/plain": [
       "VideoId        82\n",
       "StartFrame     82\n",
       "EndFrame       82\n",
       "SliceNumber    82\n",
       "PersonIndex    82\n",
       "Poses          82\n",
       "dtype: int64"
      ]
     },
     "execution_count": 22,
     "metadata": {},
     "output_type": "execute_result"
    }
   ],
   "source": [
    "df.count()"
   ]
  },
  {
   "cell_type": "code",
   "execution_count": null,
   "metadata": {},
   "outputs": [],
   "source": []
  }
 ],
 "metadata": {
  "kernelspec": {
   "display_name": "Python 3",
   "language": "python",
   "name": "python3"
  },
  "language_info": {
   "codemirror_mode": {
    "name": "ipython",
    "version": 3
   },
   "file_extension": ".py",
   "mimetype": "text/x-python",
   "name": "python",
   "nbconvert_exporter": "python",
   "pygments_lexer": "ipython3",
   "version": "3.5.2"
  }
 },
 "nbformat": 4,
 "nbformat_minor": 2
}
